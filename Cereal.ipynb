{
 "cells": [
  {
   "cell_type": "code",
   "execution_count": 83,
   "id": "6dd6e176-bfc0-41ae-89cb-32be28fa5401",
   "metadata": {},
   "outputs": [],
   "source": [
    "import numpy as np\n",
    "import pandas as pd\n",
    "import matplotlib.pyplot as plt\n",
    "import seaborn as sns\n",
    "import warnings\n",
    "warnings.filterwarnings('ignore')"
   ]
  },
  {
   "cell_type": "code",
   "execution_count": 2,
   "id": "6840e933-c76c-4774-953a-a612c3a28bf7",
   "metadata": {},
   "outputs": [],
   "source": [
    "data=pd.read_csv(\"C:\\\\Users\\\\md\\\\OneDrive\\\\Desktop\\\\cereal.csv\")"
   ]
  },
  {
   "cell_type": "code",
   "execution_count": 3,
   "id": "3fceced7-0d73-425b-9ef1-ccd8d4b9569c",
   "metadata": {},
   "outputs": [
    {
     "data": {
      "text/html": [
       "<div>\n",
       "<style scoped>\n",
       "    .dataframe tbody tr th:only-of-type {\n",
       "        vertical-align: middle;\n",
       "    }\n",
       "\n",
       "    .dataframe tbody tr th {\n",
       "        vertical-align: top;\n",
       "    }\n",
       "\n",
       "    .dataframe thead th {\n",
       "        text-align: right;\n",
       "    }\n",
       "</style>\n",
       "<table border=\"1\" class=\"dataframe\">\n",
       "  <thead>\n",
       "    <tr style=\"text-align: right;\">\n",
       "      <th></th>\n",
       "      <th>name</th>\n",
       "      <th>mfr</th>\n",
       "      <th>type</th>\n",
       "      <th>calories</th>\n",
       "      <th>protein</th>\n",
       "      <th>fat</th>\n",
       "      <th>sodium</th>\n",
       "      <th>fiber</th>\n",
       "      <th>carbo</th>\n",
       "      <th>sugars</th>\n",
       "      <th>potass</th>\n",
       "      <th>vitamins</th>\n",
       "      <th>shelf</th>\n",
       "      <th>weight</th>\n",
       "      <th>cups</th>\n",
       "      <th>rating</th>\n",
       "    </tr>\n",
       "  </thead>\n",
       "  <tbody>\n",
       "    <tr>\n",
       "      <th>0</th>\n",
       "      <td>100% Bran</td>\n",
       "      <td>N</td>\n",
       "      <td>C</td>\n",
       "      <td>70</td>\n",
       "      <td>4</td>\n",
       "      <td>1</td>\n",
       "      <td>130</td>\n",
       "      <td>10</td>\n",
       "      <td>5</td>\n",
       "      <td>6</td>\n",
       "      <td>280</td>\n",
       "      <td>25</td>\n",
       "      <td>3</td>\n",
       "      <td>1</td>\n",
       "      <td>0</td>\n",
       "      <td>68</td>\n",
       "    </tr>\n",
       "    <tr>\n",
       "      <th>1</th>\n",
       "      <td>100% Natural Bran</td>\n",
       "      <td>Q</td>\n",
       "      <td>C</td>\n",
       "      <td>120</td>\n",
       "      <td>3</td>\n",
       "      <td>5</td>\n",
       "      <td>15</td>\n",
       "      <td>2</td>\n",
       "      <td>8</td>\n",
       "      <td>8</td>\n",
       "      <td>135</td>\n",
       "      <td>0</td>\n",
       "      <td>3</td>\n",
       "      <td>1</td>\n",
       "      <td>1</td>\n",
       "      <td>34</td>\n",
       "    </tr>\n",
       "    <tr>\n",
       "      <th>2</th>\n",
       "      <td>All-Bran</td>\n",
       "      <td>K</td>\n",
       "      <td>C</td>\n",
       "      <td>70</td>\n",
       "      <td>4</td>\n",
       "      <td>1</td>\n",
       "      <td>260</td>\n",
       "      <td>9</td>\n",
       "      <td>7</td>\n",
       "      <td>5</td>\n",
       "      <td>320</td>\n",
       "      <td>25</td>\n",
       "      <td>3</td>\n",
       "      <td>1</td>\n",
       "      <td>0</td>\n",
       "      <td>59</td>\n",
       "    </tr>\n",
       "    <tr>\n",
       "      <th>3</th>\n",
       "      <td>All-Bran with Extra Fiber</td>\n",
       "      <td>K</td>\n",
       "      <td>C</td>\n",
       "      <td>50</td>\n",
       "      <td>4</td>\n",
       "      <td>0</td>\n",
       "      <td>140</td>\n",
       "      <td>14</td>\n",
       "      <td>8</td>\n",
       "      <td>0</td>\n",
       "      <td>330</td>\n",
       "      <td>25</td>\n",
       "      <td>3</td>\n",
       "      <td>1</td>\n",
       "      <td>1</td>\n",
       "      <td>94</td>\n",
       "    </tr>\n",
       "    <tr>\n",
       "      <th>4</th>\n",
       "      <td>Almond Delight</td>\n",
       "      <td>R</td>\n",
       "      <td>C</td>\n",
       "      <td>110</td>\n",
       "      <td>2</td>\n",
       "      <td>2</td>\n",
       "      <td>200</td>\n",
       "      <td>1</td>\n",
       "      <td>14</td>\n",
       "      <td>8</td>\n",
       "      <td>-1</td>\n",
       "      <td>25</td>\n",
       "      <td>3</td>\n",
       "      <td>1</td>\n",
       "      <td>1</td>\n",
       "      <td>34</td>\n",
       "    </tr>\n",
       "  </tbody>\n",
       "</table>\n",
       "</div>"
      ],
      "text/plain": [
       "                        name mfr type  calories  protein  fat  sodium  fiber  \\\n",
       "0                  100% Bran   N    C        70        4    1     130     10   \n",
       "1          100% Natural Bran   Q    C       120        3    5      15      2   \n",
       "2                   All-Bran   K    C        70        4    1     260      9   \n",
       "3  All-Bran with Extra Fiber   K    C        50        4    0     140     14   \n",
       "4             Almond Delight   R    C       110        2    2     200      1   \n",
       "\n",
       "   carbo  sugars  potass  vitamins  shelf  weight  cups  rating  \n",
       "0      5       6     280        25      3       1     0      68  \n",
       "1      8       8     135         0      3       1     1      34  \n",
       "2      7       5     320        25      3       1     0      59  \n",
       "3      8       0     330        25      3       1     1      94  \n",
       "4     14       8      -1        25      3       1     1      34  "
      ]
     },
     "execution_count": 3,
     "metadata": {},
     "output_type": "execute_result"
    }
   ],
   "source": [
    "data.head()"
   ]
  },
  {
   "cell_type": "code",
   "execution_count": 4,
   "id": "54c14053-ff08-4a91-8842-6bb65735f4b9",
   "metadata": {},
   "outputs": [
    {
     "data": {
      "text/plain": [
       "(77, 16)"
      ]
     },
     "execution_count": 4,
     "metadata": {},
     "output_type": "execute_result"
    }
   ],
   "source": [
    "data.shape"
   ]
  },
  {
   "cell_type": "code",
   "execution_count": 5,
   "id": "c313527f-6e6d-4a8d-b9ad-81ad026a9463",
   "metadata": {},
   "outputs": [
    {
     "name": "stdout",
     "output_type": "stream",
     "text": [
      "<class 'pandas.core.frame.DataFrame'>\n",
      "RangeIndex: 77 entries, 0 to 76\n",
      "Data columns (total 16 columns):\n",
      " #   Column    Non-Null Count  Dtype \n",
      "---  ------    --------------  ----- \n",
      " 0   name      77 non-null     object\n",
      " 1   mfr       77 non-null     object\n",
      " 2   type      77 non-null     object\n",
      " 3   calories  77 non-null     int64 \n",
      " 4   protein   77 non-null     int64 \n",
      " 5   fat       77 non-null     int64 \n",
      " 6   sodium    77 non-null     int64 \n",
      " 7   fiber     77 non-null     int64 \n",
      " 8   carbo     77 non-null     int64 \n",
      " 9   sugars    77 non-null     int64 \n",
      " 10  potass    77 non-null     int64 \n",
      " 11  vitamins  77 non-null     int64 \n",
      " 12  shelf     77 non-null     int64 \n",
      " 13  weight    77 non-null     int64 \n",
      " 14  cups      77 non-null     int64 \n",
      " 15  rating    77 non-null     int64 \n",
      "dtypes: int64(13), object(3)\n",
      "memory usage: 9.8+ KB\n"
     ]
    }
   ],
   "source": [
    "data.info()"
   ]
  },
  {
   "cell_type": "code",
   "execution_count": 6,
   "id": "a227fddd-803d-4324-a27a-92e26eddb174",
   "metadata": {},
   "outputs": [
    {
     "data": {
      "text/html": [
       "<div>\n",
       "<style scoped>\n",
       "    .dataframe tbody tr th:only-of-type {\n",
       "        vertical-align: middle;\n",
       "    }\n",
       "\n",
       "    .dataframe tbody tr th {\n",
       "        vertical-align: top;\n",
       "    }\n",
       "\n",
       "    .dataframe thead th {\n",
       "        text-align: right;\n",
       "    }\n",
       "</style>\n",
       "<table border=\"1\" class=\"dataframe\">\n",
       "  <thead>\n",
       "    <tr style=\"text-align: right;\">\n",
       "      <th></th>\n",
       "      <th>calories</th>\n",
       "      <th>protein</th>\n",
       "      <th>fat</th>\n",
       "      <th>sodium</th>\n",
       "      <th>fiber</th>\n",
       "      <th>carbo</th>\n",
       "      <th>sugars</th>\n",
       "      <th>potass</th>\n",
       "      <th>vitamins</th>\n",
       "      <th>shelf</th>\n",
       "      <th>weight</th>\n",
       "      <th>cups</th>\n",
       "      <th>rating</th>\n",
       "    </tr>\n",
       "  </thead>\n",
       "  <tbody>\n",
       "    <tr>\n",
       "      <th>count</th>\n",
       "      <td>77.000000</td>\n",
       "      <td>77.000000</td>\n",
       "      <td>77.000000</td>\n",
       "      <td>77.000000</td>\n",
       "      <td>77.000000</td>\n",
       "      <td>77.000000</td>\n",
       "      <td>77.000000</td>\n",
       "      <td>77.000000</td>\n",
       "      <td>77.000000</td>\n",
       "      <td>77.000000</td>\n",
       "      <td>77.000000</td>\n",
       "      <td>77.000000</td>\n",
       "      <td>77.000000</td>\n",
       "    </tr>\n",
       "    <tr>\n",
       "      <th>mean</th>\n",
       "      <td>106.883117</td>\n",
       "      <td>2.545455</td>\n",
       "      <td>1.012987</td>\n",
       "      <td>159.675325</td>\n",
       "      <td>2.181818</td>\n",
       "      <td>14.623377</td>\n",
       "      <td>6.922078</td>\n",
       "      <td>96.077922</td>\n",
       "      <td>28.246753</td>\n",
       "      <td>2.207792</td>\n",
       "      <td>1.025974</td>\n",
       "      <td>0.961039</td>\n",
       "      <td>42.649351</td>\n",
       "    </tr>\n",
       "    <tr>\n",
       "      <th>std</th>\n",
       "      <td>19.484119</td>\n",
       "      <td>1.094790</td>\n",
       "      <td>1.006473</td>\n",
       "      <td>83.832295</td>\n",
       "      <td>2.382653</td>\n",
       "      <td>4.261328</td>\n",
       "      <td>4.444885</td>\n",
       "      <td>71.286813</td>\n",
       "      <td>22.342523</td>\n",
       "      <td>0.832524</td>\n",
       "      <td>0.160101</td>\n",
       "      <td>0.253479</td>\n",
       "      <td>14.042010</td>\n",
       "    </tr>\n",
       "    <tr>\n",
       "      <th>min</th>\n",
       "      <td>50.000000</td>\n",
       "      <td>1.000000</td>\n",
       "      <td>0.000000</td>\n",
       "      <td>0.000000</td>\n",
       "      <td>0.000000</td>\n",
       "      <td>-1.000000</td>\n",
       "      <td>-1.000000</td>\n",
       "      <td>-1.000000</td>\n",
       "      <td>0.000000</td>\n",
       "      <td>1.000000</td>\n",
       "      <td>1.000000</td>\n",
       "      <td>0.000000</td>\n",
       "      <td>18.000000</td>\n",
       "    </tr>\n",
       "    <tr>\n",
       "      <th>25%</th>\n",
       "      <td>100.000000</td>\n",
       "      <td>2.000000</td>\n",
       "      <td>0.000000</td>\n",
       "      <td>130.000000</td>\n",
       "      <td>1.000000</td>\n",
       "      <td>12.000000</td>\n",
       "      <td>3.000000</td>\n",
       "      <td>40.000000</td>\n",
       "      <td>25.000000</td>\n",
       "      <td>1.000000</td>\n",
       "      <td>1.000000</td>\n",
       "      <td>1.000000</td>\n",
       "      <td>33.000000</td>\n",
       "    </tr>\n",
       "    <tr>\n",
       "      <th>50%</th>\n",
       "      <td>110.000000</td>\n",
       "      <td>3.000000</td>\n",
       "      <td>1.000000</td>\n",
       "      <td>180.000000</td>\n",
       "      <td>2.000000</td>\n",
       "      <td>14.000000</td>\n",
       "      <td>7.000000</td>\n",
       "      <td>90.000000</td>\n",
       "      <td>25.000000</td>\n",
       "      <td>2.000000</td>\n",
       "      <td>1.000000</td>\n",
       "      <td>1.000000</td>\n",
       "      <td>40.000000</td>\n",
       "    </tr>\n",
       "    <tr>\n",
       "      <th>75%</th>\n",
       "      <td>110.000000</td>\n",
       "      <td>3.000000</td>\n",
       "      <td>2.000000</td>\n",
       "      <td>210.000000</td>\n",
       "      <td>3.000000</td>\n",
       "      <td>17.000000</td>\n",
       "      <td>11.000000</td>\n",
       "      <td>120.000000</td>\n",
       "      <td>25.000000</td>\n",
       "      <td>3.000000</td>\n",
       "      <td>1.000000</td>\n",
       "      <td>1.000000</td>\n",
       "      <td>51.000000</td>\n",
       "    </tr>\n",
       "    <tr>\n",
       "      <th>max</th>\n",
       "      <td>160.000000</td>\n",
       "      <td>6.000000</td>\n",
       "      <td>5.000000</td>\n",
       "      <td>320.000000</td>\n",
       "      <td>14.000000</td>\n",
       "      <td>23.000000</td>\n",
       "      <td>15.000000</td>\n",
       "      <td>330.000000</td>\n",
       "      <td>100.000000</td>\n",
       "      <td>3.000000</td>\n",
       "      <td>2.000000</td>\n",
       "      <td>2.000000</td>\n",
       "      <td>94.000000</td>\n",
       "    </tr>\n",
       "  </tbody>\n",
       "</table>\n",
       "</div>"
      ],
      "text/plain": [
       "         calories    protein        fat      sodium      fiber      carbo  \\\n",
       "count   77.000000  77.000000  77.000000   77.000000  77.000000  77.000000   \n",
       "mean   106.883117   2.545455   1.012987  159.675325   2.181818  14.623377   \n",
       "std     19.484119   1.094790   1.006473   83.832295   2.382653   4.261328   \n",
       "min     50.000000   1.000000   0.000000    0.000000   0.000000  -1.000000   \n",
       "25%    100.000000   2.000000   0.000000  130.000000   1.000000  12.000000   \n",
       "50%    110.000000   3.000000   1.000000  180.000000   2.000000  14.000000   \n",
       "75%    110.000000   3.000000   2.000000  210.000000   3.000000  17.000000   \n",
       "max    160.000000   6.000000   5.000000  320.000000  14.000000  23.000000   \n",
       "\n",
       "          sugars      potass    vitamins      shelf     weight       cups  \\\n",
       "count  77.000000   77.000000   77.000000  77.000000  77.000000  77.000000   \n",
       "mean    6.922078   96.077922   28.246753   2.207792   1.025974   0.961039   \n",
       "std     4.444885   71.286813   22.342523   0.832524   0.160101   0.253479   \n",
       "min    -1.000000   -1.000000    0.000000   1.000000   1.000000   0.000000   \n",
       "25%     3.000000   40.000000   25.000000   1.000000   1.000000   1.000000   \n",
       "50%     7.000000   90.000000   25.000000   2.000000   1.000000   1.000000   \n",
       "75%    11.000000  120.000000   25.000000   3.000000   1.000000   1.000000   \n",
       "max    15.000000  330.000000  100.000000   3.000000   2.000000   2.000000   \n",
       "\n",
       "          rating  \n",
       "count  77.000000  \n",
       "mean   42.649351  \n",
       "std    14.042010  \n",
       "min    18.000000  \n",
       "25%    33.000000  \n",
       "50%    40.000000  \n",
       "75%    51.000000  \n",
       "max    94.000000  "
      ]
     },
     "execution_count": 6,
     "metadata": {},
     "output_type": "execute_result"
    }
   ],
   "source": [
    "data.describe()"
   ]
  },
  {
   "cell_type": "code",
   "execution_count": 7,
   "id": "f59ca6e8-6ab1-4010-9ee1-40bf327f490a",
   "metadata": {},
   "outputs": [],
   "source": [
    "data.dropna(inplace=True)\n"
   ]
  },
  {
   "cell_type": "code",
   "execution_count": 8,
   "id": "2e1c162e-fc4b-4498-b225-64e63e76ac96",
   "metadata": {},
   "outputs": [],
   "source": [
    "data.drop_duplicates(inplace=True)"
   ]
  },
  {
   "cell_type": "code",
   "execution_count": 9,
   "id": "a8734810-4fd7-40f9-9bd6-ddfaa97da9fd",
   "metadata": {},
   "outputs": [
    {
     "data": {
      "text/plain": [
       "name        0\n",
       "mfr         0\n",
       "type        0\n",
       "calories    0\n",
       "protein     0\n",
       "fat         0\n",
       "sodium      0\n",
       "fiber       0\n",
       "carbo       0\n",
       "sugars      0\n",
       "potass      0\n",
       "vitamins    0\n",
       "shelf       0\n",
       "weight      0\n",
       "cups        0\n",
       "rating      0\n",
       "dtype: int64"
      ]
     },
     "execution_count": 9,
     "metadata": {},
     "output_type": "execute_result"
    }
   ],
   "source": [
    "data.isnull().sum()"
   ]
  },
  {
   "cell_type": "code",
   "execution_count": 10,
   "id": "e81ac813-a3d4-4494-af48-b26503666411",
   "metadata": {},
   "outputs": [
    {
     "name": "stdout",
     "output_type": "stream",
     "text": [
      "Index(['name', 'mfr', 'type', 'calories', 'protein', 'fat', 'sodium', 'fiber',\n",
      "       'carbo', 'sugars', 'potass', 'vitamins', 'shelf', 'weight', 'cups',\n",
      "       'rating'],\n",
      "      dtype='object')\n"
     ]
    }
   ],
   "source": [
    "data.columns=data.columns.str.strip().str.lower()\n",
    "print(data.columns)\n",
    "\n",
    "\n"
   ]
  },
  {
   "cell_type": "code",
   "execution_count": 70,
   "id": "8a2a73fd-c2d8-4105-b666-b432c4e48103",
   "metadata": {},
   "outputs": [],
   "source": [
    "data['type'] = data['type'].replace({'C':'Cold','H':'Hot'})"
   ]
  },
  {
   "cell_type": "code",
   "execution_count": 71,
   "id": "6738f27f-405b-4230-bf56-a9cb5039d0d1",
   "metadata": {},
   "outputs": [],
   "source": [
    "data.rename(columns={'mfr':'manufacturer'}, inplace = True)"
   ]
  },
  {
   "cell_type": "markdown",
   "id": "79673f8d-322a-4e3e-b230-831b5dad8478",
   "metadata": {},
   "source": [
    "# Fat information\n"
   ]
  },
  {
   "cell_type": "code",
   "execution_count": 13,
   "id": "32a6be29-3b2a-4be7-8df4-6c65dc473535",
   "metadata": {},
   "outputs": [
    {
     "name": "stdout",
     "output_type": "stream",
     "text": [
      "Maximum fat is in : 100% Natural Bran\n",
      "Minimum fat is in : All-Bran with Extra Fiber\n",
      "Maximum fat value is  : 5\n",
      "Minimum fat value is  : 0\n"
     ]
    }
   ],
   "source": [
    "max_fat=data.groupby('name')['fat'].mean().idxmax()\n",
    "print(\"Maximum fat is in :\", max_fat)\n",
    "min_fat=data.groupby('name')['fat'].mean().idxmin()\n",
    "print(\"Minimum fat is in :\", min_fat)\n",
    "max_fat_value=data['fat'].max()\n",
    "print(\"Maximum fat value is  :\", max_fat_value)\n",
    "min_fat_value=data['fat'].min()\n",
    "print(\"Minimum fat value is  :\", min_fat_value)  "
   ]
  },
  {
   "cell_type": "markdown",
   "id": "cec1aa0a-c01a-4c43-947b-c707f208c569",
   "metadata": {},
   "source": [
    "# Calories Info"
   ]
  },
  {
   "cell_type": "code",
   "execution_count": 14,
   "id": "b1924a4b-4622-4ed5-bb5f-99505c2aabaf",
   "metadata": {},
   "outputs": [
    {
     "name": "stdout",
     "output_type": "stream",
     "text": [
      "Maximum calories is in : Mueslix Crispy Blend\n",
      "Minimum calories is in : All-Bran with Extra Fiber\n",
      "Maximum calories value is  : 160\n",
      "Minimum calories value is  : 50\n"
     ]
    }
   ],
   "source": [
    "max_cal=data.groupby('name')['calories'].mean().idxmax()\n",
    "print(\"Maximum calories is in :\", max_cal)\n",
    "min_cal=data.groupby('name')['calories'].mean().idxmin()\n",
    "print(\"Minimum calories is in :\", min_cal)\n",
    "max_cal_value=data['calories'].max()\n",
    "print(\"Maximum calories value is  :\", max_cal_value)\n",
    "min_cal_value=data['calories'].min()\n",
    "print(\"Minimum calories value is  :\", min_cal_value)  "
   ]
  },
  {
   "cell_type": "markdown",
   "id": "f339e029-fe15-4231-87d0-1190cf9f360f",
   "metadata": {},
   "source": [
    "# Max of item"
   ]
  },
  {
   "cell_type": "code",
   "execution_count": 15,
   "id": "be4328db-c528-416e-8067-6afd514d2207",
   "metadata": {},
   "outputs": [
    {
     "data": {
      "text/plain": [
       "calories           Mueslix Crispy Blend\n",
       "protein                        Cheerios\n",
       "fat                   100% Natural Bran\n",
       "sodium                       Product 19\n",
       "fiber         All-Bran with Extra Fiber\n",
       "carbo                         Rice Chex\n",
       "sugars                     Golden Crisp\n",
       "potass        All-Bran with Extra Fiber\n",
       "vitamins    Just Right Crunchy  Nuggets\n",
       "shelf                         100% Bran\n",
       "weight             Mueslix Crispy Blend\n",
       "cups                                Kix\n",
       "rating        All-Bran with Extra Fiber\n",
       "dtype: object"
      ]
     },
     "execution_count": 15,
     "metadata": {},
     "output_type": "execute_result"
    }
   ],
   "source": [
    "data.groupby('name').mean(numeric_only=True).idxmax()"
   ]
  },
  {
   "cell_type": "markdown",
   "id": "b4468071-3dd5-4f98-a682-102893728cb2",
   "metadata": {},
   "source": [
    "# Min of item"
   ]
  },
  {
   "cell_type": "code",
   "execution_count": 16,
   "id": "ff94b48a-ef0e-4512-994b-38aa65fea0b4",
   "metadata": {},
   "outputs": [
    {
     "data": {
      "text/plain": [
       "calories    All-Bran with Extra Fiber\n",
       "protein                  Cap'n'Crunch\n",
       "fat         All-Bran with Extra Fiber\n",
       "sodium            Frosted Mini-Wheats\n",
       "fiber                    Cap'n'Crunch\n",
       "carbo                  Quaker Oatmeal\n",
       "sugars                 Quaker Oatmeal\n",
       "potass                 Almond Delight\n",
       "vitamins            100% Natural Bran\n",
       "shelf         Apple Cinnamon Cheerios\n",
       "weight                      100% Bran\n",
       "cups                        100% Bran\n",
       "rating                   Cap'n'Crunch\n",
       "dtype: object"
      ]
     },
     "execution_count": 16,
     "metadata": {},
     "output_type": "execute_result"
    }
   ],
   "source": [
    "data.groupby('name').mean(numeric_only=True).idxmin()"
   ]
  },
  {
   "cell_type": "markdown",
   "id": "889b9688-9814-4f7b-9f1b-26e03ed5c3c6",
   "metadata": {},
   "source": [
    "# Data Visualization"
   ]
  },
  {
   "cell_type": "code",
   "execution_count": 58,
   "id": "ca052d28-1bfe-425c-b8b6-994fdff4b28a",
   "metadata": {},
   "outputs": [
    {
     "data": {
      "image/png": "[encoded data removed]",
      "text/plain": [
       "<Figure size 700x400 with 1 Axes>"
      ]
     },
     "metadata": {},
     "output_type": "display_data"
    }
   ],
   "source": [
    "plt.figure(figsize=(7,4))\n",
    "sns.countplot(y='type',data=data)\n",
    "plt.title(\"Most Sold Type\")\n",
    "plt.tight_layout()\n",
    "plt.show()\n",
    "                    "
   ]
  },
  {
   "cell_type": "code",
   "execution_count": 82,
   "id": "0bf8e636-2c6a-4f8e-b028-dd452b2da413",
   "metadata": {},
   "outputs": [
    {
     "data": {
      "image/png": "[encoded data removed]",
      "text/plain": [
       "<Figure size 1000x700 with 1 Axes>"
      ]
     },
     "metadata": {},
     "output_type": "display_data"
    }
   ],
   "source": [
    "most_cal=data.groupby('name')['protein'].sum().nlargest(5)\n",
    "plt.figure(figsize=(10, 7))\n",
    "plt.bar(most_cal.index, most_cal.values, color='skyblue') \n",
    "plt.xlabel('Bread Name')\n",
    "plt.ylabel('Protein')\n",
    "plt.xticks(rotation=45)\n",
    "plt.title('Top 5 High in Protein')\n",
    "plt.tight_layout()\n",
    "plt.show()\n"
   ]
  },
  {
   "cell_type": "code",
   "execution_count": 76,
   "id": "d62e10b0-4cc8-41e5-91ee-b20ebf1a3aaf",
   "metadata": {},
   "outputs": [],
   "source": [
    "more_cal=data.sort_values(by='calories',ascending=False)\n",
    "top_10_max=more_cal.head(10)"
   ]
  },
  {
   "cell_type": "code",
   "execution_count": 75,
   "id": "8d041a3f-7953-4a80-a076-0225dc9dab63",
   "metadata": {},
   "outputs": [],
   "source": [
    "min_cal=data.sort_values(by='calories',ascending=True)\n",
    "top_10_min=min_cal.head(10)"
   ]
  },
  {
   "cell_type": "code",
   "execution_count": 81,
   "id": "f480b39b-c178-4d36-a3f5-a9728ff1b94f",
   "metadata": {},
   "outputs": [
    {
     "data": {
      "image/png": "[encoded data removed]",
      "text/plain": [
       "<Figure size 1000x700 with 1 Axes>"
      ]
     },
     "metadata": {},
     "output_type": "display_data"
    }
   ],
   "source": [
    "plt.figure(figsize=(10,7))\n",
    "plt.barh(top_10_max['name'],top_10_max['calories'],color='red',label=\"Max Calories\")\n",
    "plt.barh(top_10_min['name'],top_10_min['calories'],color='blue')\n",
    "plt.xlabel(\"Calories\")\n",
    "plt.ylabel(\"Cereal\")\n",
    "plt.tight_layout()\n",
    "plt.show()"
   ]
  },
  {
   "cell_type": "code",
   "execution_count": null,
   "id": "32f201e1-935d-4181-89f5-d9c4bb4aae6e",
   "metadata": {},
   "outputs": [],
   "source": []
  },
  {
   "cell_type": "code",
   "execution_count": null,
   "id": "2c7a4bc1-49c6-4ed2-9d3b-1d254bb5565b",
   "metadata": {},
   "outputs": [],
   "source": []
  },
  {
   "cell_type": "code",
   "execution_count": null,
   "id": "924e6d1b-2d0d-445a-bed2-6871477d6e34",
   "metadata": {},
   "outputs": [],
   "source": []
  },
  {
   "cell_type": "code",
   "execution_count": null,
   "id": "62a636da-3894-408c-ad66-faacdc545207",
   "metadata": {},
   "outputs": [],
   "source": []
  },
  {
   "cell_type": "code",
   "execution_count": null,
   "id": "895baa86-ca82-49b0-bcae-8de397e4dd97",
   "metadata": {},
   "outputs": [],
   "source": []
  }
 ],
 "metadata": {
  "kernelspec": {
   "display_name": "Python 3 (ipykernel)",
   "language": "python",
   "name": "python3"
  },
  "language_info": {
   "codemirror_mode": {
    "name": "ipython",
    "version": 3
   },
   "file_extension": ".py",
   "mimetype": "text/x-python",
   "name": "python",
   "nbconvert_exporter": "python",
   "pygments_lexer": "ipython3",
   "version": "3.11.4"
  }
 },
 "nbformat": 4,
 "nbformat_minor": 5
}
